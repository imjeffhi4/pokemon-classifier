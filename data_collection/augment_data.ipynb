{
 "cells": [
  {
   "cell_type": "code",
   "execution_count": 1,
   "metadata": {},
   "outputs": [],
   "source": [
    "import os\n",
    "import re\n",
    "\n",
    "def update_dict(data_dict, key, img_name):\n",
    "    \"\"\"Keeps track of how many images each pokemon has\"\"\"\n",
    "    if key in data_dict:\n",
    "        data_dict[key]['count'] += 1\n",
    "        data_dict[key]['img_names'].append(img_name)\n",
    "    else:\n",
    "        data_dict[key] = {'count': 1, 'img_names': [img_name]}\n",
    "    return data_dict\n",
    "\n",
    "def get_data_dict():\n",
    "    \"\"\"Loops through images to count the number of images and keeps track of the image file names for augmentation\"\"\"\n",
    "    data_dict = {}\n",
    "    for image_name in os.listdir('./training_data'):\n",
    "        pokedex_num = int(re.findall(\"^(\\d+)\", image_name)[0])\n",
    "        data_dict = update_dict(data_dict, pokedex_num, image_name)\n",
    "    return data_dict\n",
    "pokemon_image_data = get_data_dict()"
   ]
  },
  {
   "cell_type": "code",
   "execution_count": 2,
   "metadata": {},
   "outputs": [],
   "source": [
    "from PIL import Image, ImageOps, ImageFilter\n",
    "import random\n",
    "import numpy as np\n",
    "\n",
    "\n",
    "def create_folder(folder_name):\n",
    "    \"\"\"If folder does not exist, create it\"\"\"\n",
    "    if not os.path.isdir(folder_name):\n",
    "        os.mkdir(folder_name)\n",
    "\n",
    "pokedex={}\n",
    "def update_pokedex_counts(pokedex_num):\n",
    "    \"\"\"Updates the number of images for training/testing. Used for file naming purposes\"\"\"\n",
    "    if pokedex_num in pokedex:\n",
    "        pokedex[pokedex_num] +=1\n",
    "    else: \n",
    "        pokedex[pokedex_num] = 0\n",
    "\n",
    "def save_image(img, pokedex_num):\n",
    "    \"\"\"Resizes image and saves to specified directory\"\"\"\n",
    "    create_folder('training_data_augmented')\n",
    "    num_images = pokedex[pokedex_num]\n",
    "    update_pokedex_counts(pokedex_num)\n",
    "    width, height = img.size\n",
    "    if width != 224 or height != 224:\n",
    "        img = img.resize((224, 224)) # Training resolution\n",
    "    img.convert(\"RGB\").save(f\"./training_data_augmented/{pokedex_num}_{num_images}.png\")\n",
    "\n",
    "\n"
   ]
  },
  {
   "cell_type": "code",
   "execution_count": 3,
   "metadata": {},
   "outputs": [],
   "source": [
    "import cv2\n",
    "\n",
    "def quantizing(image, shift_amount):\n",
    "    \"\"\"Effectively reduces the number of colors in an image by the shift_amount\"\"\"\n",
    "    red = (np.asarray(image)[:, :, 0] >> shift_amount) << shift_amount\n",
    "    green = (np.asarray(image)[:, :, 1] >> shift_amount) << shift_amount\n",
    "    blue = (np.asarray(image)[:, :, 2] >> shift_amount) << shift_amount\n",
    "    return np.stack((red, green, blue), axis=2)\n",
    "\n",
    "\n",
    "def add_noise(image):\n",
    "    \"\"\"Adds Gaussian noise to the image\"\"\"\n",
    "    rand_decimal = random.randint(20, 70)/100  # number between 0.2 and 0.7\n",
    "    # mean = 0, standard deviation = rand_decimal\n",
    "    gaussian = np.random.normal(0, rand_decimal, image.size)\n",
    "    gaussian = gaussian.reshape(\n",
    "        image.shape[0], image.shape[1], image.shape[2]).astype('uint8')  # reshaping\n",
    "    return cv2.add(image, gaussian)  # Adding gaussian noise to image\n",
    "\n",
    "\n",
    "def crop_image(im):\n",
    "    \"\"\"Crops the image and then returns back to original size\"\"\"\n",
    "    left = random.randint(10, 30)\n",
    "    right = random.randint(150, 200)\n",
    "    top = random.randint(0, 40)\n",
    "    bottom = random.randint(85, 200)\n",
    "    return im.crop((left, top, right, bottom)).resize((224, 224))"
   ]
  },
  {
   "cell_type": "code",
   "execution_count": 4,
   "metadata": {},
   "outputs": [],
   "source": [
    "def get_augmentation(im, prior_augmentation):\n",
    "   \"\"\"Randomly applies 1 or more augmentations. Doesn't do mirroring or cropping on images previously augmented to avoid issues such as cropping the pokemon out.\"\"\"\n",
    "    num = random.randint( 1, 6) if not prior_augmentation else random.randint(2, 5)\n",
    "    if num == 1:\n",
    "        im = ImageOps.mirror(im)  # flips/mirrors the image\n",
    "    elif num == 2:\n",
    "        radius = random.randint(1, 5)\n",
    "        # applies a gaussian blur to the image\n",
    "        im = im.filter(ImageFilter.GaussianBlur(radius=radius))\n",
    "    elif num == 3:\n",
    "        degree = random.randint(1, 359)\n",
    "        im = im.rotate(degree)\n",
    "    elif num == 4:\n",
    "        shift_amount = random.randint(4, 7)\n",
    "        im = Image.fromarray(quantizing(im, shift_amount))\n",
    "    elif num == 5:\n",
    "        im = Image.fromarray(add_noise(np.array(im)))\n",
    "    elif num == 6:\n",
    "        im = crop_image(im)\n",
    "\n",
    "    # returning or adding another augmentation:\n",
    "    if random.random() < 0.2:\n",
    "        return get_augmentation(im, True)\n",
    "    else:\n",
    "        return im"
   ]
  },
  {
   "cell_type": "code",
   "execution_count": 5,
   "metadata": {},
   "outputs": [
    {
     "name": "stderr",
     "output_type": "stream",
     "text": [
      "100%|██████████| 898/898 [13:56<00:00,  1.07it/s]\n",
      "100%|██████████| 898/898 [20:06<00:00,  1.34s/it]\n"
     ]
    }
   ],
   "source": [
    "from tqdm import tqdm\n",
    "\n",
    "\n",
    "def save_old_images():\n",
    "    \"\"\"Save original images in augmented folder for ease of access/naming\"\"\"\n",
    "    for pokedex_num, item in tqdm(pokemon_image_data.items()):\n",
    "        update_pokedex_counts(pokedex_num)  # initializing\n",
    "        for img_name in item['img_names']:\n",
    "            pokedex_num = int(re.findall(\"^(\\d+)\", img_name)[0])\n",
    "            save_image(Image.open(f'./training_data/{img_name}'), pokedex_num)\n",
    "\n",
    "\n",
    "def augment_images():\n",
    "    \"\"\"Loops through each image for each pokemon and applies a random augmentation until the pokemon has 200 images total.\"\"\"\n",
    "    for pokedex_num, item in tqdm(pokemon_image_data.items()):\n",
    "        while pokemon_image_data[pokedex_num]['count'] <= 150:\n",
    "            random.shuffle(item['img_names'])\n",
    "            img_name = item['img_names'][0]  # random image\n",
    "            im = Image.open(f\"./training_data/{img_name}\").convert('RGB')\n",
    "            pokemon_image_data[pokedex_num]['count'] += 1\n",
    "            augmented = get_augmentation(im, False)\n",
    "            save_image(augmented, pokedex_num)\n",
    "\n",
    "\n",
    "save_old_images()\n",
    "augment_images()\n"
   ]
  },
  {
   "cell_type": "code",
   "execution_count": null,
   "metadata": {},
   "outputs": [],
   "source": []
  }
 ],
 "metadata": {
  "interpreter": {
   "hash": "98b35f54f48fbac3e5ffa46ab7cc15b584275b74e35baab85b001e32619a37ec"
  },
  "kernelspec": {
   "display_name": "Python 3.8.11 64-bit ('base': conda)",
   "language": "python",
   "name": "python3"
  },
  "language_info": {
   "codemirror_mode": {
    "name": "ipython",
    "version": 3
   },
   "file_extension": ".py",
   "mimetype": "text/x-python",
   "name": "python",
   "nbconvert_exporter": "python",
   "pygments_lexer": "ipython3",
   "version": "3.8.12"
  },
  "orig_nbformat": 4
 },
 "nbformat": 4,
 "nbformat_minor": 2
}
