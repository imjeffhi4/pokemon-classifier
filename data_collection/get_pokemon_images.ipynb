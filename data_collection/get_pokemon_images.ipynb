{
 "cells": [
  {
   "cell_type": "markdown",
   "metadata": {},
   "source": [
    "# Creating Pokedex\n",
    "\n",
    "Getting Pokemon data from PokemonDB. Fills out the Pokedex with name, pokedex number, number of images, and the pokedex URL. "
   ]
  },
  {
   "cell_type": "code",
   "execution_count": 1,
   "metadata": {},
   "outputs": [],
   "source": [
    "import requests\n",
    "import re\n",
    "import json\n",
    "\n",
    "def get_generation(pokedex_num):\n",
    "    \"\"\"Returns what generation a Pokemon belongs to based on pokedex number\"\"\"\n",
    "    if pokedex_num <= 151:\n",
    "        return 1\n",
    "    elif pokedex_num <= 251:\n",
    "        return 2\n",
    "    elif pokedex_num <= 386:\n",
    "        return 3\n",
    "    elif pokedex_num <= 493:\n",
    "        return 4\n",
    "    elif pokedex_num <= 649:\n",
    "        return 5\n",
    "    elif pokedex_num <= 721:\n",
    "        return 6\n",
    "    elif pokedex_num <= 809:\n",
    "        return 7\n",
    "    elif pokedex_num <= 898:\n",
    "        return 8\n",
    "\n",
    "\n",
    "def get_pokemon():\n",
    "    \"\"\"Scrapes Pokemondb and returns a pokedex with pokedex number as ID and name, generation, number of images, and sprite url as values \"\"\"\n",
    "    page = requests.get(f\"https://pokemondb.net/pokedex/national\").text\n",
    "    poke_cards = re.findall('<div [^>]+>(.+?)(?=</div>)', page)\n",
    "    pokedex = {}\n",
    "    for card in poke_cards:\n",
    "        img_url = re.findall('data\\-src\\=\"([^\"]+)', card)[0]\n",
    "        name = re.findall('class\\=\"ent-name\"[^>]+>([^<]+)', card)[0].strip()\n",
    "        pokedex_num = int(re.findall('\\#([^<]+)', card)[0].lstrip('0'))\n",
    "        generation = get_generation(pokedex_num)\n",
    "        pokedex[pokedex_num] = {\n",
    "            \"Name\": name, \"Generation\": generation, \"# of Training Images\": 0, \"# of Testing Images\": 0, \"Image URL\": img_url}\n",
    "    return pokedex\n",
    "\n",
    "\n",
    "pokedex = get_pokemon()\n",
    "with open('pokemon_data.json', 'w', encoding='utf-8') as w:\n",
    "    json.dump(pokedex, w, indent=2, ensure_ascii=False)\n"
   ]
  },
  {
   "cell_type": "markdown",
   "metadata": {},
   "source": [
    "# Save functions \n",
    "Creating functions to save each collected image with the pokemon's pokedex label followed by the current number of images for that pokemon (to ensure each image has a unique name so we don't overwrite)."
   ]
  },
  {
   "cell_type": "code",
   "execution_count": 2,
   "metadata": {},
   "outputs": [],
   "source": [
    "import os\n",
    "\n",
    "def create_folder(folder_name):\n",
    "    \"\"\"If folder does not exist, create it\"\"\"\n",
    "    if not os.path.isdir(folder_name):\n",
    "        os.mkdir(folder_name)\n",
    "\n",
    "def update_pokedex_counts(pokedex_num, key_name):\n",
    "    \"\"\"Updates the number of images for training/testing. Used for file naming purposes\"\"\"\n",
    "    if key_name:\n",
    "        num_images = pokedex[pokedex_num][key_name]\n",
    "        pokedex[pokedex_num][key_name] +=1\n",
    "        return num_images\n",
    "    else:\n",
    "        return ''\n",
    "\n",
    "\n",
    "def save_image(img, save_directory, pokedex_num, num_image_key):\n",
    "    \"\"\"Resizes image and saves to specified directory\"\"\"\n",
    "    create_folder(save_directory)\n",
    "    num_images = update_pokedex_counts(pokedex_num, num_image_key)\n",
    "    resized = img.resize((224, 224)) # Training resolution\n",
    "    resized.save(f\"./{save_directory}/{pokedex_num}_{num_images}.png\")\n"
   ]
  },
  {
   "cell_type": "markdown",
   "metadata": {},
   "source": [
    "# Getting PokemonDB sprites"
   ]
  },
  {
   "cell_type": "code",
   "execution_count": 3,
   "metadata": {},
   "outputs": [
    {
     "name": "stderr",
     "output_type": "stream",
     "text": [
      "100%|██████████| 898/898 [01:41<00:00,  8.84it/s]\n"
     ]
    }
   ],
   "source": [
    "import cv2\n",
    "from PIL import Image\n",
    "from io import BytesIO\n",
    "import numpy as np\n",
    "from tqdm import tqdm\n",
    "import random\n",
    "\n",
    "\n",
    "def create_template(image):\n",
    "    \"\"\"Changes blank background into a random color and blacks out pokemon. Serves as a form of data augmentation.\"\"\"\n",
    "    background_color = [random.randint(0, 255), random.randint(0, 255), random.randint(\n",
    "        0, 255), random.randint(0, 255)]  # random background color\n",
    "    pokemon_color = [random.randint(0, 255), random.randint(0, 255), random.randint(\n",
    "        0, 255), random.randint(0, 255)]  # makes pokemon single color\n",
    "\n",
    "    im_array = np.array(image)\n",
    "    r, g, b, a = cv2.split(im_array)  # splitting to rgba channels separately\n",
    "    black_areas = ((b == 0) & (g == 0) & (r == 0)) | (a == 0)\n",
    "    non_black = ((b > 0) | (g > 0) | (r > 0)) & (a != 0)\n",
    "    im_array[black_areas] = background_color\n",
    "    im_array[non_black] = pokemon_color\n",
    "    hidden = Image.fromarray(im_array)\n",
    "    return hidden\n",
    "\n",
    "def get_pokemonDB_images():\n",
    "    \"\"\"Loops through pokedex and gets the default pokemon images for testing. \"\"\"\n",
    "    background_color = [217, 19, 17, 255]  # shade of red\n",
    "    pokemon_color = [0, 0, 0, 0]  # black\n",
    "    for pokedex_num, item in tqdm(pokedex.items()):\n",
    "        img_url = item['Image URL']\n",
    "        content = requests.get(img_url).content\n",
    "        img = Image.open(BytesIO(content)).convert('RGBA')\n",
    "        hidden = create_template(img)\n",
    "        save_image(img, 'training_data', pokedex_num,  '# of Training Images')\n",
    "        save_image(hidden, 'training_data', pokedex_num,   '# of Training Images')\n",
    "\n",
    "\n",
    "get_pokemonDB_images()\n"
   ]
  },
  {
   "cell_type": "markdown",
   "metadata": {},
   "source": [
    "# Veekun Images\n",
    "Loops through directory and resizes veekun images and saves. "
   ]
  },
  {
   "cell_type": "code",
   "execution_count": 4,
   "metadata": {},
   "outputs": [],
   "source": [
    "\n",
    "import re\n",
    "\n",
    "def get_pokedex_num(file_name):\n",
    "    \"\"\"Veekun images are labeled based on Pokedex number. This simply returns that number if it exists\"\"\"\n",
    "    if re.findall('^(\\d+)', file_name) and not re.search('^0', file_name):\n",
    "        pokedex_num = int(re.findall('^(\\d+)', file_name)[0])\n",
    "        return pokedex_num\n",
    "    else:\n",
    "        return None\n",
    "\n",
    "\n",
    "def save_veekun_images(path):\n",
    "    \"\"\"Recursively loops through directories in veekum folder attempting to find labeled Pokemon images to use as training data.\"\"\"\n",
    "    directories = os.listdir(path)\n",
    "    for directory in directories:\n",
    "        if '.png' in directory:\n",
    "            img = Image.open(f\"{path}/{directory}\").convert('RGBA')\n",
    "            pokedex_num = get_pokedex_num(directory)\n",
    "            if pokedex_num:\n",
    "                save_image(img, 'training_data', pokedex_num, \"# of Training Images\")\n",
    "                # A form of data augmentation that resembles a \"Whos that pokemon card\" loosely\n",
    "                if 'black-white' in path:\n",
    "                    for i in range(2):\n",
    "                        hidden = create_template(img)\n",
    "                        save_image(hidden, 'training_data', pokedex_num, \"# of Training Images\")\n",
    "        elif '.svg' not in directory:\n",
    "            save_veekun_images(f\"{path}/{directory}\")\n",
    "save_veekun_images('veekun_images')"
   ]
  },
  {
   "cell_type": "markdown",
   "metadata": {},
   "source": [
    "# Brave Images\n",
    "Collects more variable images via scraping Brave Images. "
   ]
  },
  {
   "cell_type": "code",
   "execution_count": 15,
   "metadata": {},
   "outputs": [
    {
     "name": "stderr",
     "output_type": "stream",
     "text": [
      "100%|██████████| 898/898 [27:34<00:00,  1.84s/it]\n"
     ]
    }
   ],
   "source": [
    "from selenium import webdriver\n",
    "import time\n",
    "\n",
    "prior_urls = [] # List to ensure there are no  duplicate urls\n",
    "\n",
    "browser = webdriver.Firefox() # Opens Firefox to make requests\n",
    "\n",
    "def loop_through_images(pokemon_name, img_urls, titles, save_path, pokedex_num):\n",
    "    \"\"\"Loops through images and image titles. Ensures that the pokemon name is in the title before saving to training dataset.\"\"\"\n",
    "    for img_url, title in zip(img_urls, titles):\n",
    "        if pokemon_name in title.lower() and img_url not in prior_urls:\n",
    "            try:\n",
    "                content = requests.get(img_url).content\n",
    "                img = Image.open(BytesIO(content)).convert('RGBA')\n",
    "            except:\n",
    "                continue\n",
    "            save_image(img, save_path, pokedex_num, \"# of Training Images\")\n",
    "            prior_urls.append(img_url) #keeps track of what images have been added to avoid duplicates\n",
    "\n",
    "\n",
    "def get_images_and_titles(num_images):\n",
    "    \"\"\"returns first n images and titles from brave search results\"\"\"\n",
    "    containers = [element for i, element in enumerate(browser.find_elements_by_class_name('box')) if i < num_images]\n",
    "    for container in containers:\n",
    "        img_url = container.find_element_by_class_name('image').get_attribute('src')\n",
    "        title = container.find_element_by_class_name('img-title').text\n",
    "        yield img_url, title\n",
    "\n",
    "\n",
    "def get_and_save_brave_images(search_txt, n, pokemon_name, pokedex_num, save_path):\n",
    "    browser.get(f\"https://search.brave.com/images?q={search_txt}\")  # getting page data\n",
    "    time.sleep(3) # sleeps to load page\n",
    "    elements = tuple(get_images_and_titles(n))\n",
    "    if elements:\n",
    "        img_urls, titles = zip(*elements)\n",
    "        loop_through_images(pokemon_name, img_urls, titles, save_path, pokedex_num)\n",
    "        time.sleep(2)\n",
    "    else:\n",
    "        time.sleep(35) # Wait so I have enough time to fill-in the captcha \n",
    "        get_and_save_brave_images(search_txt, n, pokemon_name, pokedex_num, save_path)\n",
    "\n",
    "def get_search_txts(pokemon_name):\n",
    "    \"\"\"Creates three search texts for each pokemon name. (e.g., for bulbasaur, it'd search for the following string: 'pokemon bulbasaur art', 'pokemon bulbasaur card', 'pokemon bulbasaur wallpaper'). This can be expanded but worked well in my tests. \"\"\"\n",
    "    txts = ['art', 'card', 'wallpaper']\n",
    "    for txt in txts:\n",
    "        yield f\"pokemon {pokemon_name} {txt}\".strip().replace(' ', '+')\n",
    "\n",
    "\n",
    "for pokedex_num, item in tqdm(pokedex.items()):\n",
    "    pokemon_name = item['Name'].strip().lower()\n",
    "    search_txts = list(get_search_txts(pokemon_name)) # list of txts to search for per pokemon\n",
    "    num_images = (20,5,3) # Number of images to attempt to save per search\n",
    "    prior_urls = [] # Ensures there are no duplicate URLS\n",
    "    for search_txt, n in zip(search_txts, num_images):\n",
    "        get_and_save_brave_images(search_txt, n, pokemon_name, pokedex_num,  'training_data')\n"
   ]
  },
  {
   "cell_type": "markdown",
   "metadata": {},
   "source": [
    "# Test data\n",
    "Converts SVG sprites from Veekrun into RGB with some data augmentatation for testing"
   ]
  },
  {
   "cell_type": "code",
   "execution_count": 13,
   "metadata": {},
   "outputs": [],
   "source": [
    "import cairosvg\n",
    "\n",
    "def create_template(image, background, pokemon_color):\n",
    "    \"\"\"Changes the background and color of pokemon to single colors.\"\"\"\n",
    "    im_array = np.array(image.convert('RGBA'))\n",
    "    r, g, b, a = cv2.split(im_array) # splitting to rgba channels separately\n",
    "    black_areas = ((b<=2) & (g <=2) & (r <=2))|(a<=2)\n",
    "    non_black = ((b > 2) | (g > 2) | (r > 2))&(a>2)\n",
    "    im_array[black_areas] = background\n",
    "    revealed = Image.fromarray(im_array).copy()\n",
    "    im_array[non_black] = pokemon_color\n",
    "    hidden = Image.fromarray(im_array)\n",
    "    return hidden, revealed\n",
    "\n",
    "def get_PIL_image(path, file_name):\n",
    "    \"\"\"Saves svg as png and then loads as Pillow image\"\"\"\n",
    "    cairosvg.svg2png( url=f'{path}/{file_name}', write_to='temp.png')\n",
    "    return Image.open('temp.png')\n",
    "\n",
    "\n",
    "def get_testing_images(path):\n",
    "    \"\"\"Loops through pokedex and \"\"\"\n",
    "    background_color = [217, 19, 17, 255]  # shade of red\n",
    "    pokemon_color = [0, 0, 0, 0]  # black\n",
    "    for file_name in os.listdir(path):\n",
    "        if \".svg\" in file_name:\n",
    "            pokedex_num = int(re.findall('^(\\d+)', file_name)[0])\n",
    "            img = get_PIL_image(path, file_name)\n",
    "            hidden, revealed = create_template(img,  background_color, pokemon_color)\n",
    "\n",
    "            # Saving Images:\n",
    "            save_image(img, 'testing_data', pokedex_num,  '# of Testing Images')\n",
    "            save_image(hidden, 'testing_data', pokedex_num,   '# of Testing Images')\n",
    "            save_image(hidden, './WhosThatPokemon_hidden/', pokedex_num,  '')\n",
    "            save_image(revealed,'./WhosThatPokemon_revealed/', pokedex_num,  '')\n",
    "\n",
    "get_testing_images('./test_svgs')"
   ]
  },
  {
   "cell_type": "code",
   "execution_count": null,
   "metadata": {},
   "outputs": [],
   "source": []
  }
 ],
 "metadata": {
  "interpreter": {
   "hash": "98b35f54f48fbac3e5ffa46ab7cc15b584275b74e35baab85b001e32619a37ec"
  },
  "kernelspec": {
   "display_name": "Python 3.8.11 64-bit ('base': conda)",
   "language": "python",
   "name": "python3"
  },
  "language_info": {
   "codemirror_mode": {
    "name": "ipython",
    "version": 3
   },
   "file_extension": ".py",
   "mimetype": "text/x-python",
   "name": "python",
   "nbconvert_exporter": "python",
   "pygments_lexer": "ipython3",
   "version": "3.8.11"
  },
  "orig_nbformat": 4
 },
 "nbformat": 4,
 "nbformat_minor": 2
}
